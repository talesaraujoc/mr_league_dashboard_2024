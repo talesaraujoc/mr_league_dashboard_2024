{
 "cells": [
  {
   "cell_type": "code",
   "execution_count": 1,
   "metadata": {},
   "outputs": [],
   "source": [
    "import pandas as pd"
   ]
  },
  {
   "cell_type": "code",
   "execution_count": 15,
   "metadata": {},
   "outputs": [],
   "source": [
    "df = pd.read_excel('data/testedatasetv2b.xlsx')\n",
    "df.fillna(0, inplace=True)"
   ]
  },
  {
   "cell_type": "code",
   "execution_count": 17,
   "metadata": {},
   "outputs": [],
   "source": [
    "\n",
    "# Carregar os critérios de pontuação do arquivo Excel (ou você já pode ter esses valores diretamente no código)\n",
    "criterios = {\n",
    "    'ATA': {'V': 7, 'E': 0, 'D': -4, 'GOL': 7, 'ASS': 4, 'STG': 2, 'GC': -10, 'AMA': -4, 'AZUL': -8, 'VER': -16, 'PP': -10, 'GS': 0, 'DD': 0, 'DP': 0},\n",
    "    'MEI': {'V': 7, 'E': 0, 'D': -4, 'GOL': 8.5, 'ASS': 5, 'STG': 2.5, 'GC': -10, 'AMA': -4, 'AZUL': -8, 'VER': -16, 'PP': -10, 'GS': 0, 'DD': 0, 'DP': 0},\n",
    "    'ZAG': {'V': 7, 'E': 0, 'D': -4, 'GOL': 10, 'ASS': 6, 'STG': 3, 'GC': -10, 'AMA': -4, 'AZUL': -8, 'VER': -16, 'PP': -10, 'GS': 0, 'DD': 0, 'DP': 0},\n",
    "    'GK':  {'V': 6, 'E': 0, 'D': -3, 'GOL': 16, 'ASS': 10, 'STG': 4, 'GC': -10, 'AMA': -4, 'AZUL': -8, 'VER': -16, 'PP': -10, 'GS': -5, 'DD': 5, 'DP': 20}\n",
    "}\n",
    "\n",
    "# Função para calcular os pontos com base na posição e nos critérios fornecidos\n",
    "def calcular_pontos(row):\n",
    "    posicao = row['POSIÇÃO']\n",
    "    pontos = (row['V'] * criterios[posicao]['V'] +\n",
    "              row['E'] * criterios[posicao]['E'] +\n",
    "              row['D'] * criterios[posicao]['D'] +\n",
    "              row['GOL'] * criterios[posicao]['GOL'] +\n",
    "              row['ASS'] * criterios[posicao]['ASS'] +\n",
    "              row['STG'] * criterios[posicao]['STG'] +\n",
    "              row['GC'] * criterios[posicao]['GC'] +\n",
    "              row['AMA'] * criterios[posicao]['AMA'] +\n",
    "              row['AZUL'] * criterios[posicao]['AZUL'] +\n",
    "              row['VER'] * criterios[posicao]['VER'] +\n",
    "              row['PP'] * criterios[posicao]['PP'] +\n",
    "              row['GS'] * criterios[posicao]['GS'] +\n",
    "              row['DD'] * criterios[posicao]['DD'] +\n",
    "              row['DP'] * criterios[posicao]['DP'])\n",
    "    return pontos\n",
    "\n",
    "# Aplicando a função a cada linha do DataFrame\n",
    "df['PTS'] = df.apply(calcular_pontos, axis=1)\n"
   ]
  },
  {
   "cell_type": "code",
   "execution_count": 66,
   "metadata": {},
   "outputs": [],
   "source": [
    "df_main = pd.read_excel('data/testedatasetv2b.xlsx')\n",
    "df_main['MES'] = df_main['DATA'].dt.month\n",
    "\n",
    "# Dicionário para mapear o número do mês para o nome do mês\n",
    "meses = {\n",
    "    1: 'Janeiro',\n",
    "    2: 'Fevereiro',\n",
    "    3: 'Março',\n",
    "    4: 'Abril',\n",
    "    5: 'Maio',\n",
    "    6: 'Junho',\n",
    "    7: 'Julho',\n",
    "    8: 'Agosto',\n",
    "    9: 'Setembro',\n",
    "    10: 'Outubro',\n",
    "    11: 'Novembro',\n",
    "    12: 'Dezembro'\n",
    "}\n",
    "\n",
    "# Criar uma nova coluna 'mes_extenso' usando o mapeamento do dicionário\n",
    "df_main['mes_extenso'] = df_main['MES'].map(meses)\n"
   ]
  },
  {
   "cell_type": "code",
   "execution_count": 67,
   "metadata": {},
   "outputs": [],
   "source": [
    "df_main = df_main.groupby(['MES','POSIÇÃO','PLAYER']).agg({'PTS':'sum'}).sort_values(['MES','POSIÇÃO','PTS'], ascending=[True, True, False])"
   ]
  },
  {
   "cell_type": "code",
   "execution_count": 69,
   "metadata": {},
   "outputs": [],
   "source": [
    "df_main.to_excel('mvps.xlsx')"
   ]
  }
 ],
 "metadata": {
  "kernelspec": {
   "display_name": "Python 3",
   "language": "python",
   "name": "python3"
  },
  "language_info": {
   "codemirror_mode": {
    "name": "ipython",
    "version": 3
   },
   "file_extension": ".py",
   "mimetype": "text/x-python",
   "name": "python",
   "nbconvert_exporter": "python",
   "pygments_lexer": "ipython3",
   "version": "3.12.5"
  }
 },
 "nbformat": 4,
 "nbformat_minor": 2
}
