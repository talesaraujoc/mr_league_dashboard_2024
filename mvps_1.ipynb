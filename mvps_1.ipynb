{
 "cells": [
  {
   "cell_type": "code",
   "execution_count": 65,
   "metadata": {},
   "outputs": [],
   "source": [
    "import pandas as pd"
   ]
  },
  {
   "cell_type": "code",
   "execution_count": 66,
   "metadata": {},
   "outputs": [],
   "source": [
    "df_main = pd.read_excel('data/testedatasetv2b.xlsx')\n",
    "df_main['MES'] = df_main['DATA'].dt.month\n",
    "\n",
    "# Dicionário para mapear o número do mês para o nome do mês\n",
    "meses = {\n",
    "    1: 'Janeiro',\n",
    "    2: 'Fevereiro',\n",
    "    3: 'Março',\n",
    "    4: 'Abril',\n",
    "    5: 'Maio',\n",
    "    6: 'Junho',\n",
    "    7: 'Julho',\n",
    "    8: 'Agosto',\n",
    "    9: 'Setembro',\n",
    "    10: 'Outubro',\n",
    "    11: 'Novembro',\n",
    "    12: 'Dezembro'\n",
    "}\n",
    "\n",
    "# Criar uma nova coluna 'mes_extenso' usando o mapeamento do dicionário\n",
    "df_main['mes_extenso'] = df_main['MES'].map(meses)\n"
   ]
  },
  {
   "cell_type": "code",
   "execution_count": 67,
   "metadata": {},
   "outputs": [],
   "source": [
    "df_main = df_main.groupby(['MES','POSIÇÃO','PLAYER']).agg({'PTS':'sum'}).sort_values(['MES','POSIÇÃO','PTS'], ascending=[True, True, False])"
   ]
  },
  {
   "cell_type": "code",
   "execution_count": 69,
   "metadata": {},
   "outputs": [],
   "source": [
    "df_main.to_excel('mvps.xlsx')"
   ]
  }
 ],
 "metadata": {
  "kernelspec": {
   "display_name": "Python 3",
   "language": "python",
   "name": "python3"
  },
  "language_info": {
   "codemirror_mode": {
    "name": "ipython",
    "version": 3
   },
   "file_extension": ".py",
   "mimetype": "text/x-python",
   "name": "python",
   "nbconvert_exporter": "python",
   "pygments_lexer": "ipython3",
   "version": "3.11.2"
  }
 },
 "nbformat": 4,
 "nbformat_minor": 2
}
